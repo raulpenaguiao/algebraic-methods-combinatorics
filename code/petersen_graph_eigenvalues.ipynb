{
 "cells": [
  {
   "cell_type": "code",
   "execution_count": 1,
   "id": "15e23569",
   "metadata": {},
   "outputs": [],
   "source": [
    "import numpy as np"
   ]
  },
  {
   "cell_type": "code",
   "execution_count": 11,
   "id": "b4252424",
   "metadata": {},
   "outputs": [
    {
     "data": {
      "text/plain": [
       "[-2.0, -2.0, -2.0, -2.0, 1.0, 1.0, 1.0, 1.0, 1.0, 3.0]"
      ]
     },
     "execution_count": 11,
     "metadata": {},
     "output_type": "execute_result"
    }
   ],
   "source": [
    "import numpy as np\n",
    "# Adjacency matrix Peterson graph\n",
    "A_P = [[0, 1, 0, 0, 1, 1, 0, 0, 0, 0],\n",
    "      [1, 0, 1, 0, 0, 0, 1, 0, 0, 0],\n",
    "      [0, 1, 0, 1, 0, 0, 0, 1, 0, 0],\n",
    "      [0, 0, 1, 0, 1, 0, 0, 0, 1, 0],\n",
    "      [1, 0, 0, 1, 0, 0, 0, 0, 0, 1],\n",
    "      [1, 0, 0, 0, 0, 0, 0, 1, 1, 0],\n",
    "      [0, 1, 0, 0, 0, 0, 0, 0, 1, 1],\n",
    "      [0, 0, 1, 0, 0, 1, 0, 0, 0, 1],\n",
    "      [0, 0, 0, 1, 0, 1, 1, 0, 0, 0],\n",
    "      [0, 0, 0, 0, 1, 0, 1, 1, 0, 0]]\n",
    "sorted(list(np.round(np.linalg.eig(np.array(A_P))[0])))"
   ]
  }
 ],
 "metadata": {
  "kernelspec": {
   "display_name": "SageMath 9.0",
   "language": "sage",
   "name": "sagemath"
  },
  "language_info": {
   "codemirror_mode": {
    "name": "ipython",
    "version": 3
   },
   "file_extension": ".py",
   "mimetype": "text/x-python",
   "name": "python",
   "nbconvert_exporter": "python",
   "pygments_lexer": "ipython3",
   "version": "3.8.10"
  }
 },
 "nbformat": 4,
 "nbformat_minor": 5
}
